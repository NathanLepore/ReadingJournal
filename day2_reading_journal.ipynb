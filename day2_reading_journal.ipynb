{
 "cells": [
  {
   "cell_type": "markdown",
   "metadata": {},
   "source": [
    "# Day 2 Reading Journal\n",
    "\n",
    "This journal includes several required exercises, but it is meant to encourage active reading more generally.  You should use the journal to take detailed notes, catalog questions, and explore the content from Think Python deeply.\n",
    "\n",
    "Reading: Think Python Chapter 6.1-6.4, 7\n",
    "\n",
    "**Due: Tuesday, January 24 at 12 noon**\n",
    "\n"
   ]
  },
  {
   "cell_type": "markdown",
   "metadata": {},
   "source": [
    "## [Chapter 6.1-6.4](http://greenteapress.com/thinkpython2/html/thinkpython2007.html)\n",
    "\n",
    "Note: the exercise numbers below match up with the reading for ease of cross referencing."
   ]
  },
  {
   "cell_type": "markdown",
   "metadata": {},
   "source": [
    "**Quick check:** What is a _fruitful function_?"
   ]
  },
  {
   "cell_type": "markdown",
   "metadata": {},
   "source": [
    "A fruitful function is a function that has a return value "
   ]
  },
  {
   "cell_type": "markdown",
   "metadata": {},
   "source": [
    "### Chapter 6.1 \n",
    "Write a `compare` function that returns `1` if `x > y`, `0` if `x == y`, and `-1` if `x < y`."
   ]
  },
  {
   "cell_type": "code",
   "execution_count": null,
   "metadata": {
    "collapsed": false
   },
   "outputs": [],
   "source": [
    ">>> def compare_funk():\n",
    "    x = input('Please input an x value: ')\n",
    "    x = int(x)\n",
    "    print(x)\n",
    "    y = input('Please input a y value: ')\n",
    "    y = int(y)\n",
    "    print(y)\n",
    "\n",
    "    if x > y:\n",
    "        print(\"1\")\n",
    "    elif x == y:\n",
    "        print(\"0\")\n",
    "    elif x < y:\n",
    "        print(\"-1\")\n",
    "            \n",
    "\n",
    "        \n",
    ">>> compare_funk()\n",
    "Please input an x value: 3\n",
    "3\n",
    "Please input a y value: 5\n",
    "5\n",
    "-1"
   ]
  },
  {
   "cell_type": "markdown",
   "metadata": {},
   "source": [
    "**Quick check:** Modify the `absolute_value` function so that it returns the correct result for all integer inputs."
   ]
  },
  {
   "cell_type": "code",
   "execution_count": 4,
   "metadata": {
    "collapsed": false
   },
   "outputs": [],
   "source": [
    "def absolute_value(x):\n",
    "    if x < 0:\n",
    "        return -x\n",
    "    if x > 0:\n",
    "        return x\n",
    "    if x == 0:\n",
    "        return x"
   ]
  },
  {
   "cell_type": "markdown",
   "metadata": {},
   "source": [
    "### Chapter 6.2 \n",
    "Use incremental development to write a function called `hypotenuse` that returns the length of the hypotenuse of a right triangle given the lengths of the two legs as arguments. Record each stage of the development process as you go, using as many cells as you need."
   ]
  },
  {
   "cell_type": "code",
   "execution_count": null,
   "metadata": {
    "collapsed": true
   },
   "outputs": [],
   "source": [
    ">>> def hypotenuse(a,b):\n",
    "    \n",
    "    print(a)\n",
    "    \n",
    "    print(b)\n",
    "\n",
    "    csquared = a**2 + b**2\n",
    "\n",
    "    c = csquared**(0.5)\n",
    "\n",
    "    print(c)\n",
    "\n",
    "\n",
    "    \n",
    ">>> hypotenuse(3,4)\n",
    "3\n",
    "4\n",
    "5.0"
   ]
  },
  {
   "cell_type": "markdown",
   "metadata": {},
   "source": [
    "### Chapter 6.4\n",
    "Write a function `is_between(x, y, z)` that returns `True` if `x ≤ y ≤ z` or `False` otherwise."
   ]
  },
  {
   "cell_type": "code",
   "execution_count": null,
   "metadata": {
    "collapsed": false
   },
   "outputs": [],
   "source": [
    ">>> def is_between(x,y,z):\n",
    "    print(x)\n",
    "    print(y)\n",
    "    print(z)\n",
    "\n",
    "    if x <= y and y <= z:\n",
    "        print(\"True\")\n",
    "    else:\n",
    "        print(\"False\")\n",
    "\n",
    "    \n",
    ">>> is_between(1,2,3)\n",
    "1\n",
    "2\n",
    "3\n",
    "True\n",
    ">>> is_between(2,5,2)\n",
    "2\n",
    "5\n",
    "2\n",
    "False"
   ]
  },
  {
   "cell_type": "markdown",
   "metadata": {},
   "source": [
    "## [Chapter 7](http://greenteapress.com/thinkpython2/html/thinkpython2008.html)\n",
    "\n"
   ]
  },
  {
   "cell_type": "markdown",
   "metadata": {},
   "source": [
    "**Quick check:** How do you test for equality in Python?"
   ]
  },
  {
   "cell_type": "markdown",
   "metadata": {},
   "source": [
    " x == y "
   ]
  },
  {
   "cell_type": "markdown",
   "metadata": {},
   "source": [
    "**Challenge:** Prove/disprove the Collatz conjecture :)"
   ]
  },
  {
   "cell_type": "markdown",
   "metadata": {},
   "source": [
    ">>> def collatz_conjecture(a):\n",
    "    a = int(a)\n",
    "    print(a)\n",
    "    while a != 1:\n",
    "\n",
    "        if a%2 == 0:\n",
    "            a = a/2\n",
    "            print(a)\n",
    "        elif a%2 == 1:\n",
    "            a = a*3 +1\n",
    "            print(a)\n",
    "        elif a == 1:\n",
    "            print(a)\n",
    "            \n",
    "\n",
    ">>> collatz_conjecture(74)\n",
    "74\n",
    "37\n",
    "112\n",
    "56\n",
    "28\n",
    "14\n",
    "7\n",
    "22\n",
    "11\n",
    "34\n",
    "17\n",
    "52\n",
    "26\n",
    "13\n",
    "40\n",
    "20\n",
    "10\n",
    "5\n",
    "16\n",
    "8\n",
    "4\n",
    "2\n",
    "1"
   ]
  },
  {
   "cell_type": "markdown",
   "metadata": {},
   "source": [
    "### Chapter 7.5\n",
    "Encapsulate the loop from Section 7.5 in a function called `square_root` that takes `a` as a parameter, chooses a reasonable value of `x`, and returns an estimate of the square root of `a`."
   ]
  },
  {
   "cell_type": "code",
   "execution_count": null,
   "metadata": {
    "collapsed": true
   },
   "outputs": [],
   "source": [
    ">>> def square_root(a):\n",
    "    x = a-1\n",
    "    y = x\n",
    "    epsilon = 0.000001\n",
    "    while y == x:\n",
    "        y = (x + a/x) /2\n",
    "        print(y)\n",
    "        \n",
    "        \n",
    "        if abs(y-x) < epsilon:\n",
    "            break\n",
    "        x = y\n",
    "\n",
    "        \n",
    ">>> square_root(4.0)\n",
    "2.16666666667\n",
    "2.00641025641\n",
    "2.00001024003\n",
    "2.00000000003\n",
    "2.0"
   ]
  },
  {
   "cell_type": "markdown",
   "metadata": {},
   "source": [
    "### Exercise 7.1  \n",
    "To test the square root algorithm you developed in Exercise 2, you could compare it with Python's `math.sqrt` function. Write a function named `test_square_root` that prints a table like this:\n",
    "\n",
    "```python\n",
    "1.0 1.0           1.0           0.0\n",
    "2.0 1.41421356237 1.41421356237 2.22044604925e-16\n",
    "3.0 1.73205080757 1.73205080757 0.0\n",
    "4.0 2.0           2.0           0.0\n",
    "5.0 2.2360679775  2.2360679775  0.0\n",
    "6.0 2.44948974278 2.44948974278 0.0\n",
    "7.0 2.64575131106 2.64575131106 0.0\n",
    "8.0 2.82842712475 2.82842712475 4.4408920985e-16\n",
    "9.0 3.0           3.0           0.0\n",
    "```\n",
    "\n",
    "The first column is a number, `a`; the second column is the square root of a computed with the function from Section 7.5; the third column is the square root computed by `math.sqrt`; the fourth column is the absolute value of the difference between the two estimates."
   ]
  },
  {
   "cell_type": "code",
   "execution_count": null,
   "metadata": {
    "collapsed": true
   },
   "outputs": [],
   "source": [
    ">>> def test_square_root():\n",
    "...     import math\n",
    "...     \n",
    "...     for a in range (1,10):\n",
    "...         print(a, end=' ')\n",
    "...         a = float(a)\n",
    "...         if a == 1:\n",
    "...            x = 1\n",
    "...         else:\n",
    "...            x = a-1\n",
    "...         y = x\n",
    "...         epsilon = 0.000001\n",
    "...         while y == x:\n",
    "...             y = (x + a/x) /2    \n",
    "...         \n",
    "...             if abs(y-x) < epsilon:\n",
    "...                     \n",
    "...                 print(x, end=' ')\n",
    "...                 \n",
    "...                 break\n",
    "...             x = y\n",
    "...         confirm = math.sqrt(a)\n",
    "...         print(confirm, end=' ')\n",
    "...         check = abs(confirm-y)\n",
    "...         print(check)\n",
    "...         \n",
    "... \n",
    ">>> test_square_root()\n",
    "1 1 1.0 0.0\n",
    "2 1.4142135623746899 1.4142135623730951 2.220446049250313e-16\n",
    "3 1.7320508100147274 1.7320508075688772 0.0\n",
    "4 2.0000000000262146 2.0 0.0\n",
    "5 2.2360679850099823 2.23606797749979 0.0\n",
    "6 2.4494899174113884 2.449489742783178 6.217248937900877e-15\n",
    "7 2.6457513110649575 2.6457513110645907 0.0\n",
    "8 2.8284271247531514 2.8284271247461903 4.440892098500626e-16\n",
    "9 3.000000000066165 3.0 0.0\n"
   ]
  },
  {
   "cell_type": "markdown",
   "metadata": {},
   "source": [
    "### Challenge: Exercise 7.3  (optional)\n",
    "The mathematician Srinivasa Ramanujan found an infinite series that can be used to generate a numerical approximation of\n",
    "$\\frac{1}{\\pi}$:\n",
    "\n",
    "$$\\frac{1}{\\pi} = \\frac{2 \\sqrt{2}}{9801} \\sum_{k=0}^{\\infty} \\frac{(4k)! (1103+26390k)}{(k!)^4 396^{4k}}$$\n",
    " \n",
    "Write a function called `estimate_pi` that uses this formula to compute and return an estimate of $\\pi$. It should use a `while` loop to compute terms of the summation until the last term is smaller than `1e-15` (which is Python notation for $10^{−15}$). You can check the result by comparing it to `math.pi`.\n",
    "\n",
    "[Possible solution](http://thinkpython.com/code/pi.py) (give the exercise a try before viewing the solution)"
   ]
  },
  {
   "cell_type": "code",
   "execution_count": null,
   "metadata": {
    "collapsed": true
   },
   "outputs": [],
   "source": []
  },
  {
   "cell_type": "markdown",
   "metadata": {},
   "source": [
    "## Quick poll\n",
    "\n",
    "About how long did you spend working on this Reading Journal?"
   ]
  },
  {
   "cell_type": "markdown",
   "metadata": {},
   "source": [
    "about an hour and fourty minutes"
   ]
  },
  {
   "cell_type": "markdown",
   "metadata": {},
   "source": [
    "## Reading Journal feedback\n",
    "\n",
    "Have any comments on this Reading Journal? Feel free to leave them below and we'll read them when you submit your journal entry. This could include suggestions to improve the exercises, topics you'd like to see covered in class next time, or other feedback.\n",
    "\n",
    "If you have Python questions or run into problems while completing the reading, you should post them to Piazza instead so you can get a quick response before your journal is submitted."
   ]
  },
  {
   "cell_type": "markdown",
   "metadata": {},
   "source": []
  },
  {
   "cell_type": "markdown",
   "metadata": {},
   "source": [
    " "
   ]
  }
 ],
 "metadata": {
  "kernelspec": {
   "display_name": "Python 3",
   "language": "python",
   "name": "python3"
  },
  "language_info": {
   "codemirror_mode": {
    "name": "ipython",
    "version": 3
   },
   "file_extension": ".py",
   "mimetype": "text/x-python",
   "name": "python",
   "nbconvert_exporter": "python",
   "pygments_lexer": "ipython3",
   "version": "3.5.2"
  }
 },
 "nbformat": 4,
 "nbformat_minor": 0
}
